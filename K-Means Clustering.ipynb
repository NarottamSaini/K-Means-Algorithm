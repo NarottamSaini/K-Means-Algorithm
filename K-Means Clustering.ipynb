{
 "cells": [
  {
   "cell_type": "code",
   "execution_count": 133,
   "metadata": {},
   "outputs": [],
   "source": [
    "import pandas as pd\n",
    "import numpy as np\n",
    "from sklearn.cluster import KMeans\n",
    "from sklearn.decomposition import PCA\n",
    "import matplotlib.pyplot as plt\n",
    "from sklearn.metrics.cluster import adjusted_rand_score\n",
    "from sklearn.preprocessing import StandardScaler"
   ]
  },
  {
   "cell_type": "code",
   "execution_count": 134,
   "metadata": {},
   "outputs": [
    {
     "name": "stdout",
     "output_type": "stream",
     "text": [
      "music_data.shape -  (1059, 117)\n",
      "music_data.head - \n",
      "         0         1         2         3         4         5         6    \\\n",
      "0  7.161286  7.835325  2.911583  0.984049 -1.499546 -2.094097  0.576000   \n",
      "1  0.225763 -0.094169 -0.603646  0.497745  0.874036  0.290280 -0.077659   \n",
      "2 -0.692525 -0.517801 -0.788035  1.214351 -0.907214  0.880213  0.406899   \n",
      "3 -0.735562 -0.684055  2.058215  0.716328 -0.011393  0.805396  1.497982   \n",
      "4  0.570272  0.273157 -0.279214  0.083456  1.049331 -0.869295 -0.265858   \n",
      "\n",
      "        7         8         9    ...       107       108       109       110  \\\n",
      "0 -1.205671  1.849122 -0.425598  ... -0.364194 -0.364194 -0.364194 -0.364194   \n",
      "1 -0.887385  0.432062 -0.093963  ...  0.936616  0.936616  0.936616  0.936616   \n",
      "2 -0.694895 -0.901869 -1.701574  ...  0.603755  0.603755  0.603755  0.603755   \n",
      "3  0.114752  0.692847  0.052377  ...  0.187169  0.187169  0.187169  0.187169   \n",
      "4 -0.401676 -0.872639  1.147483  ...  1.620715  1.620715  1.620715  1.620715   \n",
      "\n",
      "        111       112       113       114       115          116  \n",
      "0 -0.364194 -0.364194 -0.364194 -0.364194 -0.364194     Brasilia  \n",
      "1  0.936616  0.936616  0.936616  0.936616  0.936616        Praia  \n",
      "2  0.603755  0.603755  0.603755  0.603755  0.603755       Bamako  \n",
      "3  0.187169  0.187169  0.187169  0.187169  0.187169  Addis Ababa  \n",
      "4  1.620715  1.620715  1.620715  1.620715  1.620715        Rabat  \n",
      "\n",
      "[5 rows x 117 columns]\n"
     ]
    }
   ],
   "source": [
    "music_data=pd.read_csv('default_plus_chromatic_features_1059_tracks_new.csv',header=None)\n",
    "\n",
    "print('music_data.shape - ',music_data.shape)\n",
    "\n",
    "print('music_data.head - \\n',music_data.head())"
   ]
  },
  {
   "cell_type": "code",
   "execution_count": 135,
   "metadata": {},
   "outputs": [
    {
     "name": "stdout",
     "output_type": "stream",
     "text": [
      "X_input.shape :  (1059, 116)\n",
      "        0         1         2         3         4         5         6    \\\n",
      "0  7.161286  7.835325  2.911583  0.984049 -1.499546 -2.094097  0.576000   \n",
      "1  0.225763 -0.094169 -0.603646  0.497745  0.874036  0.290280 -0.077659   \n",
      "2 -0.692525 -0.517801 -0.788035  1.214351 -0.907214  0.880213  0.406899   \n",
      "3 -0.735562 -0.684055  2.058215  0.716328 -0.011393  0.805396  1.497982   \n",
      "4  0.570272  0.273157 -0.279214  0.083456  1.049331 -0.869295 -0.265858   \n",
      "\n",
      "        7         8         9    ...       106       107       108       109  \\\n",
      "0 -1.205671  1.849122 -0.425598  ... -0.364194 -0.364194 -0.364194 -0.364194   \n",
      "1 -0.887385  0.432062 -0.093963  ...  0.936616  0.936616  0.936616  0.936616   \n",
      "2 -0.694895 -0.901869 -1.701574  ...  0.603755  0.603755  0.603755  0.603755   \n",
      "3  0.114752  0.692847  0.052377  ...  0.187169  0.187169  0.187169  0.187169   \n",
      "4 -0.401676 -0.872639  1.147483  ...  1.620715  1.620715  1.620715  1.620715   \n",
      "\n",
      "        110       111       112       113       114       115  \n",
      "0 -0.364194 -0.364194 -0.364194 -0.364194 -0.364194 -0.364194  \n",
      "1  0.936616  0.936616  0.936616  0.936616  0.936616  0.936616  \n",
      "2  0.603755  0.603755  0.603755  0.603755  0.603755  0.603755  \n",
      "3  0.187169  0.187169  0.187169  0.187169  0.187169  0.187169  \n",
      "4  1.620715  1.620715  1.620715  1.620715  1.620715  1.620715  \n",
      "\n",
      "[5 rows x 116 columns]\n"
     ]
    }
   ],
   "source": [
    "X_input = music_data.iloc[:,:-1]\n",
    "\n",
    "print('X_input.shape : ',X_input.shape)\n",
    "print(X_input.head())"
   ]
  },
  {
   "cell_type": "code",
   "execution_count": 136,
   "metadata": {},
   "outputs": [
    {
     "name": "stdout",
     "output_type": "stream",
     "text": [
      "classes 2- (1059,)\n",
      "labels of the music file :  [ 0  1  2 ... 32 11 11]\n",
      "randIndex :  [0. 0. 0. 0. 0. 0. 0. 0.]\n",
      "sum of square error :  [0. 0. 0. 0. 0. 0. 0. 0.]\n",
      "\n",
      " \n",
      "\n",
      "Rand index and SSE for different K\n",
      "  K  Rand Index           SSE\n",
      "  2    0.001783  93160.323623\n",
      "  4    0.015163  77927.352178\n",
      "  8    0.033889  67304.889160\n",
      " 16    0.051614  57777.304564\n",
      " 24    0.055914  52917.726813\n",
      " 32    0.068100  49724.098814\n",
      " 40    0.073387  46769.553462\n",
      " 64    0.072062  42882.076887\n"
     ]
    }
   ],
   "source": [
    "# Taking different number of cluster mostly to the power of 2\n",
    "K=[2,4,8,16,24,32,40,64] \n",
    "# factorize - obtaining a numeric representation of an array when all that matters is identifying distinct values\n",
    "\n",
    "#classes=pd.factorize(music_data[116])\n",
    "#print('classes 1-', classes)\n",
    "\n",
    "label_classes=pd.factorize(music_data[116])[0] #selecting only column 1 i.e numerical value\n",
    "print('classes 2-', label_classes.shape)\n",
    "\n",
    "print(\"labels of the music file : \",label_classes)\n",
    "randIndex = np.zeros([len(K)])\n",
    "print('randIndex : ',randIndex)\n",
    "\n",
    "SSE = np.zeros([len(K)])\n",
    "print('sum of square error : ',randIndex)\n",
    "\n",
    "for k,j in zip(K,range(len(K))):\n",
    "    k_means=KMeans(n_clusters=k,init='random',max_iter=200).fit(X_input)\n",
    "    labels=k_means.labels_\n",
    "    randIndex[j]=adjusted_rand_score(label_classes,labels)\n",
    "    SSE[j]=k_means.inertia_ \n",
    "    #print(k_means,'\\n',labels,'\\n',randIndex[j],'\\n',SSE[j])\n",
    "\n",
    "print('\\n \\n')\n",
    "print(\"Rand index and SSE for different K\")\n",
    "metric_data = pd.DataFrame(list(zip(K,randIndex,SSE)))\n",
    "metric_data.columns = ['K','Rand Index','SSE']\n",
    "print(metric_data.to_string(index=False))"
   ]
  },
  {
   "cell_type": "code",
   "execution_count": 137,
   "metadata": {},
   "outputs": [
    {
     "data": {
      "image/png": "[encoded data removed]",
      "text/plain": [
       "<Figure size 432x288 with 1 Axes>"
      ]
     },
     "metadata": {
      "needs_background": "light"
     },
     "output_type": "display_data"
    }
   ],
   "source": [
    "plt.xlabel('K')\n",
    "plt.ylabel('Rand Index')\n",
    "plt.plot(K,randIndex)\n",
    "#plt.show()\n",
    "plt.savefig('KvsRandindex.png')"
   ]
  },
  {
   "cell_type": "code",
   "execution_count": 138,
   "metadata": {},
   "outputs": [
    {
     "data": {
      "image/png": "[encoded data removed]",
      "text/plain": [
       "<Figure size 432x288 with 1 Axes>"
      ]
     },
     "metadata": {
      "needs_background": "light"
     },
     "output_type": "display_data"
    }
   ],
   "source": [
    "plt.xlabel('K')\n",
    "plt.ylabel('SumSquareError')\n",
    "plt.plot(K,SSE)\n",
    "plt.savefig('KvsSumSquareError.png')\n",
    "#plt.show()"
   ]
  },
  {
   "cell_type": "markdown",
   "metadata": {},
   "source": [
    "As Sum squared error(SSE) is decreasing at lower rate from K=20 and aslo rand index for 20 clusters is more than 0.05 i am\n",
    "considering *K=20* is good value"
   ]
  },
  {
   "cell_type": "markdown",
   "metadata": {},
   "source": [
    "*TASK2*"
   ]
  },
  {
   "cell_type": "code",
   "execution_count": 139,
   "metadata": {},
   "outputs": [
    {
     "name": "stdout",
     "output_type": "stream",
     "text": [
      "pca_two:\n",
      " PCA(copy=True, iterated_power='auto', n_components=2, random_state=None,\n",
      "    svd_solver='auto', tol=0.0, whiten=False)\n",
      "pca_labels:\n",
      " (1059, 2)\n",
      "pca_res_std \n",
      " (1059, 2)\n"
     ]
    },
    {
     "data": {
      "text/plain": [
       "array([0, 1, 0, ..., 0, 0, 1], dtype=int32)"
      ]
     },
     "execution_count": 139,
     "metadata": {},
     "output_type": "execute_result"
    }
   ],
   "source": [
    "# Part A\n",
    "kmean_2C = KMeans(n_clusters=2, init=\"random\", max_iter=200)\n",
    "pca_2C = PCA(n_components=2)\n",
    "print('pca_two:\\n',pca_2C)\n",
    "\n",
    "pca_labels = pca_2C.fit_transform(X_input)\n",
    "print('pca_labels:\\n',pca_labels.shape)\n",
    "\n",
    "pca_res_std = StandardScaler().fit_transform(pca_labels)\n",
    "print('pca_res_std \\n',pca_res_std.shape)\n",
    "\n",
    "y_pred_pca_2C = kmean_2C.fit_predict(pca_res_std)\n",
    "y_pred_pca_2C"
   ]
  },
  {
   "cell_type": "markdown",
   "metadata": {},
   "source": [
    "plotting two clusters with two principle components"
   ]
  },
  {
   "cell_type": "code",
   "execution_count": 140,
   "metadata": {},
   "outputs": [
    {
     "data": {
      "image/png": "[encoded data removed]",
      "text/plain": [
       "<Figure size 432x288 with 1 Axes>"
      ]
     },
     "metadata": {
      "needs_background": "light"
     },
     "output_type": "display_data"
    }
   ],
   "source": [
    "colours=['green','red']\n",
    "m,n = music_data.shape[0],music_data.shape[1]\n",
    "for k in range(2):\n",
    "    grp = (y_pred_pca_two==k).reshape(m,1)\n",
    "    plt.scatter(pca_labels[grp[:,0],0],pca_labels[grp[:,0],1],c=colours[k],s=15)\n",
    "#plt.show()\n",
    "plt.savefig('twoClusterScatterplot.png')"
   ]
  },
  {
   "cell_type": "code",
   "execution_count": 141,
   "metadata": {},
   "outputs": [
    {
     "name": "stdout",
     "output_type": "stream",
     "text": [
      "Rand index for different no. of principal components for K=20\n",
      "  N  Rand Index\n",
      "  2    0.027821\n",
      "  4    0.039101\n",
      "  8    0.065434\n",
      " 16    0.070218\n",
      " 32    0.071892\n"
     ]
    }
   ],
   "source": [
    "# Part B\n",
    "N = [2,4,8,16,32]\n",
    "k_mean = KMeans(n_clusters=20, init=\"random\", max_iter=200)\n",
    "randIndex_K = np.zeros([len(N)])\n",
    "for i,l in zip(N,range(len(N))):\n",
    "    pca = PCA(n_components=i)\n",
    "    pca_final = pca.fit_transform(X_input)\n",
    "    pca_final = StandardScaler().fit_transform(pca_final)\n",
    "    y_pred_pca = k_mean.fit_predict(pca_final)\n",
    "    randIndex_K[l] = adjusted_rand_score(classes,y_pred_pca)\n",
    "    \n",
    "print(\"Rand index for different no. of principal components for K=20\")\n",
    "df_rand=pd.DataFrame(list(zip(N,randIndex_K)))\n",
    "df_rand.columns=['N','Rand Index']\n",
    "print(df_rand.to_string(index=False))"
   ]
  },
  {
   "cell_type": "code",
   "execution_count": null,
   "metadata": {},
   "outputs": [],
   "source": []
  }
 ],
 "metadata": {
  "kernelspec": {
   "display_name": "Python 3",
   "language": "python",
   "name": "python3"
  },
  "language_info": {
   "codemirror_mode": {
    "name": "ipython",
    "version": 3
   },
   "file_extension": ".py",
   "mimetype": "text/x-python",
   "name": "python",
   "nbconvert_exporter": "python",
   "pygments_lexer": "ipython3",
   "version": "3.7.3"
  }
 },
 "nbformat": 4,
 "nbformat_minor": 2
}
